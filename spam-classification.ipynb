{
 "cells": [
  {
   "cell_type": "code",
   "execution_count": 4,
   "metadata": {
    "collapsed": false
   },
   "outputs": [
    {
     "name": "stdout",
     "output_type": "stream",
     "text": [
      "The autoreload extension is already loaded. To reload it, use:\n  %reload_ext autoreload\n"
     ]
    }
   ],
   "source": [
    "% matplotlib inline\n",
    "% load_ext autoreload\n",
    "% autoreload 2\n"
   ]
  },
  {
   "cell_type": "code",
   "execution_count": 13,
   "metadata": {},
   "outputs": [],
   "source": [
    "import matplotlib.pyplot as plt\n",
    "from sklearn.metrics import accuracy_score\n",
    "from sklearn.model_selection import train_test_split\n",
    "from sklearn.preprocessing import LabelEncoder\n",
    "from torch.autograd import backward\n",
    "from torch.optim import lr_scheduler, RMSprop,Adam\n",
    "from torch.utils.data import Dataset, DataLoader\n",
    "\n",
    "from spam_utils import *"
   ]
  },
  {
   "cell_type": "code",
   "execution_count": 16,
   "metadata": {},
   "outputs": [],
   "source": [
    "num_epochs=5\n",
    "max_len=16"
   ]
  },
  {
   "cell_type": "code",
   "execution_count": 38,
   "metadata": {},
   "outputs": [],
   "source": [
    "corpus=Corpus()\n",
    "model=Model(corpus,num_embeddings=None,embedding_dim=50,hidden_size=128,hidden_dim=64).cuda()\n",
    "optimizer=Adam(model.parameters())\n",
    "loss_fn=nn.BCELoss().cuda()"
   ]
  },
  {
   "cell_type": "code",
   "execution_count": 39,
   "metadata": {},
   "outputs": [],
   "source": [
    "dataloaders = {'train': DataLoader(SpamSet(True, corpus, max_len=max_len), batch_size=8, shuffle=True),\n",
    "               'dev': DataLoader(SpamSet(False, corpus,max_len=max_len), batch_size=8, shuffle=False)}\n"
   ]
  },
  {
   "cell_type": "code",
   "execution_count": 40,
   "metadata": {
    "collapsed": true
   },
   "outputs": [
    {
     "name": "stderr",
     "output_type": "stream",
     "text": [
      "\r                                                                               \r\rN/A% (0 of 558) |                        | Elapsed Time: 0:00:00 ETA:  --:--:--"
     ]
    },
    {
     "name": "stderr",
     "output_type": "stream",
     "text": [
      "\r                                                                               \r\r  1% (8 of 558) |                        | Elapsed Time: 0:00:00 ETA:  00:00:00"
     ]
    },
    {
     "name": "stderr",
     "output_type": "stream",
     "text": [
      "\r                                                                               \r\r  3% (22 of 558) |                       | Elapsed Time: 0:00:00 ETA:   0:00:02"
     ]
    },
    {
     "name": "stderr",
     "output_type": "stream",
     "text": [
      "\r                                                                               \r\r  6% (36 of 558) |#                      | Elapsed Time: 0:00:00 ETA:   0:00:02"
     ]
    },
    {
     "name": "stdout",
     "output_type": "stream",
     "text": [
      "Starting epoch 1 / 5\n"
     ]
    },
    {
     "name": "stderr",
     "output_type": "stream",
     "text": [
      "\r                                                                               \r\r  8% (50 of 558) |##                     | Elapsed Time: 0:00:00 ETA:   0:00:02"
     ]
    },
    {
     "name": "stderr",
     "output_type": "stream",
     "text": [
      "\r                                                                               \r\r 11% (64 of 558) |##                     | Elapsed Time: 0:00:00 ETA:   0:00:02"
     ]
    },
    {
     "name": "stderr",
     "output_type": "stream",
     "text": [
      "\r                                                                               \r\r 13% (78 of 558) |###                    | Elapsed Time: 0:00:00 ETA:   0:00:02"
     ]
    },
    {
     "name": "stderr",
     "output_type": "stream",
     "text": [
      "\r                                                                               \r\r 16% (92 of 558) |###                    | Elapsed Time: 0:00:00 ETA:   0:00:02"
     ]
    },
    {
     "name": "stderr",
     "output_type": "stream",
     "text": [
      "\r                                                                               \r\r 18% (106 of 558) |####                  | Elapsed Time: 0:00:00 ETA:   0:00:02"
     ]
    },
    {
     "name": "stderr",
     "output_type": "stream",
     "text": [
      "\r                                                                               \r\r 21% (121 of 558) |####                  | Elapsed Time: 0:00:00 ETA:   0:00:02"
     ]
    },
    {
     "name": "stderr",
     "output_type": "stream",
     "text": [
      "\r                                                                               \r\r 24% (135 of 558) |#####                 | Elapsed Time: 0:00:00 ETA:   0:00:02"
     ]
    },
    {
     "name": "stderr",
     "output_type": "stream",
     "text": [
      "\r                                                                               \r\r 26% (149 of 558) |#####                 | Elapsed Time: 0:00:00 ETA:   0:00:02"
     ]
    },
    {
     "name": "stderr",
     "output_type": "stream",
     "text": [
      "\r                                                                               \r\r 29% (163 of 558) |######                | Elapsed Time: 0:00:00 ETA:   0:00:02"
     ]
    },
    {
     "name": "stderr",
     "output_type": "stream",
     "text": [
      "\r                                                                               \r\r 31% (177 of 558) |######                | Elapsed Time: 0:00:00 ETA:   0:00:02"
     ]
    },
    {
     "name": "stderr",
     "output_type": "stream",
     "text": [
      "\r                                                                               \r\r 34% (191 of 558) |#######               | Elapsed Time: 0:00:01 ETA:   0:00:01"
     ]
    },
    {
     "name": "stderr",
     "output_type": "stream",
     "text": [
      "\r                                                                               \r\r 36% (205 of 558) |########              | Elapsed Time: 0:00:01 ETA:   0:00:01"
     ]
    },
    {
     "name": "stderr",
     "output_type": "stream",
     "text": [
      "\r                                                                               \r\r 39% (219 of 558) |########              | Elapsed Time: 0:00:01 ETA:   0:00:01"
     ]
    },
    {
     "name": "stderr",
     "output_type": "stream",
     "text": [
      "\r                                                                               \r\r 41% (234 of 558) |#########             | Elapsed Time: 0:00:01 ETA:   0:00:01"
     ]
    },
    {
     "name": "stderr",
     "output_type": "stream",
     "text": [
      "\r                                                                               \r\r 44% (248 of 558) |#########             | Elapsed Time: 0:00:01 ETA:   0:00:01"
     ]
    },
    {
     "name": "stderr",
     "output_type": "stream",
     "text": [
      "\r                                                                               \r\r 46% (262 of 558) |##########            | Elapsed Time: 0:00:01 ETA:   0:00:01"
     ]
    },
    {
     "name": "stderr",
     "output_type": "stream",
     "text": [
      "\r                                                                               \r\r 49% (276 of 558) |##########            | Elapsed Time: 0:00:01 ETA:   0:00:01"
     ]
    },
    {
     "name": "stderr",
     "output_type": "stream",
     "text": [
      "\r                                                                               \r\r 51% (290 of 558) |###########           | Elapsed Time: 0:00:01 ETA:   0:00:01"
     ]
    },
    {
     "name": "stderr",
     "output_type": "stream",
     "text": [
      "\r                                                                               \r\r 54% (304 of 558) |###########           | Elapsed Time: 0:00:01 ETA:   0:00:01"
     ]
    },
    {
     "name": "stderr",
     "output_type": "stream",
     "text": [
      "\r                                                                               \r\r 56% (318 of 558) |############          | Elapsed Time: 0:00:01 ETA:   0:00:01"
     ]
    },
    {
     "name": "stderr",
     "output_type": "stream",
     "text": [
      "\r                                                                               \r\r 59% (332 of 558) |#############         | Elapsed Time: 0:00:01 ETA:   0:00:01"
     ]
    },
    {
     "name": "stderr",
     "output_type": "stream",
     "text": [
      "\r                                                                               \r\r 62% (347 of 558) |#############         | Elapsed Time: 0:00:01 ETA:   0:00:01"
     ]
    },
    {
     "name": "stderr",
     "output_type": "stream",
     "text": [
      "\r                                                                               \r\r 64% (361 of 558) |##############        | Elapsed Time: 0:00:01 ETA:   0:00:01"
     ]
    },
    {
     "name": "stderr",
     "output_type": "stream",
     "text": [
      "\r                                                                               \r\r 67% (375 of 558) |##############        | Elapsed Time: 0:00:01 ETA:   0:00:00"
     ]
    },
    {
     "name": "stderr",
     "output_type": "stream",
     "text": [
      "\r                                                                               \r\r 69% (389 of 558) |###############       | Elapsed Time: 0:00:02 ETA:   0:00:00"
     ]
    },
    {
     "name": "stderr",
     "output_type": "stream",
     "text": [
      "\r                                                                               \r\r 72% (403 of 558) |###############       | Elapsed Time: 0:00:02 ETA:   0:00:00"
     ]
    },
    {
     "name": "stderr",
     "output_type": "stream",
     "text": [
      "\r                                                                               \r\r 74% (417 of 558) |################      | Elapsed Time: 0:00:02 ETA:   0:00:00"
     ]
    },
    {
     "name": "stderr",
     "output_type": "stream",
     "text": [
      "\r                                                                               \r\r 77% (431 of 558) |################      | Elapsed Time: 0:00:02 ETA:   0:00:00"
     ]
    },
    {
     "name": "stderr",
     "output_type": "stream",
     "text": [
      "\r                                                                               \r\r 79% (445 of 558) |#################     | Elapsed Time: 0:00:02 ETA:   0:00:00"
     ]
    },
    {
     "name": "stderr",
     "output_type": "stream",
     "text": [
      "\r                                                                               \r\r 82% (460 of 558) |##################    | Elapsed Time: 0:00:02 ETA:   0:00:00"
     ]
    },
    {
     "name": "stderr",
     "output_type": "stream",
     "text": [
      "\r                                                                               \r\r 84% (474 of 558) |##################    | Elapsed Time: 0:00:02 ETA:   0:00:00"
     ]
    },
    {
     "name": "stderr",
     "output_type": "stream",
     "text": [
      "\r                                                                               \r\r 87% (488 of 558) |###################   | Elapsed Time: 0:00:02 ETA:   0:00:00"
     ]
    },
    {
     "name": "stderr",
     "output_type": "stream",
     "text": [
      "\r                                                                               \r\r 89% (502 of 558) |###################   | Elapsed Time: 0:00:02 ETA:   0:00:00"
     ]
    },
    {
     "name": "stderr",
     "output_type": "stream",
     "text": [
      "\r                                                                               \r\r 92% (516 of 558) |####################  | Elapsed Time: 0:00:02 ETA:   0:00:00"
     ]
    },
    {
     "name": "stderr",
     "output_type": "stream",
     "text": [
      "\r                                                                               \r\r 94% (530 of 558) |####################  | Elapsed Time: 0:00:02 ETA:   0:00:00"
     ]
    },
    {
     "name": "stderr",
     "output_type": "stream",
     "text": [
      "\r                                                                               \r\r 97% (544 of 558) |##################### | Elapsed Time: 0:00:02 ETA:   0:00:00"
     ]
    },
    {
     "name": "stderr",
     "output_type": "stream",
     "text": [
      "\r                                                                               \r\r100% (558 of 558) |######################| Elapsed Time: 0:00:02 Time:  0:00:02"
     ]
    },
    {
     "name": "stderr",
     "output_type": "stream",
     "text": [
      "\n"
     ]
    },
    {
     "name": "stderr",
     "output_type": "stream",
     "text": [
      "\r                                                                               \r\rN/A% (0 of 140) |                        | Elapsed Time: 0:00:00 ETA:  --:--:--"
     ]
    },
    {
     "name": "stderr",
     "output_type": "stream",
     "text": [
      "\r                                                                               \r\r 12% (18 of 140) |##                     | Elapsed Time: 0:00:00 ETA:  00:00:00"
     ]
    },
    {
     "name": "stderr",
     "output_type": "stream",
     "text": [
      "\r                                                                               \r\r 25% (36 of 140) |#####                  | Elapsed Time: 0:00:00 ETA:   0:00:00"
     ]
    },
    {
     "name": "stderr",
     "output_type": "stream",
     "text": [
      "\r                                                                               \r\r 39% (55 of 140) |#########              | Elapsed Time: 0:00:00 ETA:   0:00:00"
     ]
    },
    {
     "name": "stdout",
     "output_type": "stream",
     "text": [
      "Epoch 1/5, train, loss = 0.0000, accuracy = 0.1350\n"
     ]
    },
    {
     "name": "stderr",
     "output_type": "stream",
     "text": [
      "\r                                                                               \r\r 50% (70 of 140) |###########            | Elapsed Time: 0:00:00 ETA:   0:00:00"
     ]
    },
    {
     "name": "stderr",
     "output_type": "stream",
     "text": [
      "\r                                                                               \r\r 63% (89 of 140) |##############         | Elapsed Time: 0:00:00 ETA:   0:00:00"
     ]
    },
    {
     "name": "stderr",
     "output_type": "stream",
     "text": [
      "\r                                                                               \r\r 76% (107 of 140) |################      | Elapsed Time: 0:00:00 ETA:   0:00:00"
     ]
    },
    {
     "name": "stderr",
     "output_type": "stream",
     "text": [
      "\r                                                                               \r\r 90% (126 of 140) |###################   | Elapsed Time: 0:00:00 ETA:   0:00:00"
     ]
    },
    {
     "name": "stderr",
     "output_type": "stream",
     "text": [
      "\r                                                                               \r\r100% (140 of 140) |######################| Elapsed Time: 0:00:00 Time:  0:00:00"
     ]
    },
    {
     "name": "stderr",
     "output_type": "stream",
     "text": [
      "\n"
     ]
    },
    {
     "name": "stdout",
     "output_type": "stream",
     "text": [
      "Epoch 1/5, dev, loss = 0.0000, accuracy = 0.1340\n"
     ]
    },
    {
     "data": {
      "image/png": "[encoded data removed]",
      "text/plain": [
       "<Figure size 432x288 with 1 Axes>"
      ]
     },
     "metadata": {},
     "output_type": "display_data"
    },
    {
     "name": "stderr",
     "output_type": "stream",
     "text": [
      "\r                                                                               \r\rN/A% (0 of 558) |                        | Elapsed Time: 0:00:00 ETA:  --:--:--"
     ]
    },
    {
     "name": "stderr",
     "output_type": "stream",
     "text": [
      "\r                                                                               \r\r  2% (15 of 558) |                       | Elapsed Time: 0:00:00 ETA:  00:00:00"
     ]
    },
    {
     "name": "stdout",
     "output_type": "stream",
     "text": [
      "Starting epoch 2 / 5\n"
     ]
    },
    {
     "name": "stderr",
     "output_type": "stream",
     "text": [
      "\r                                                                               \r\r  5% (29 of 558) |#                      | Elapsed Time: 0:00:00 ETA:   0:00:02"
     ]
    },
    {
     "name": "stderr",
     "output_type": "stream",
     "text": [
      "\r                                                                               \r\r  7% (43 of 558) |#                      | Elapsed Time: 0:00:00 ETA:   0:00:02"
     ]
    },
    {
     "name": "stderr",
     "output_type": "stream",
     "text": [
      "\r                                                                               \r\r 10% (57 of 558) |##                     | Elapsed Time: 0:00:00 ETA:   0:00:02"
     ]
    },
    {
     "name": "stderr",
     "output_type": "stream",
     "text": [
      "\r                                                                               \r\r 12% (71 of 558) |##                     | Elapsed Time: 0:00:00 ETA:   0:00:02"
     ]
    },
    {
     "name": "stderr",
     "output_type": "stream",
     "text": [
      "\r                                                                               \r\r 15% (85 of 558) |###                    | Elapsed Time: 0:00:00 ETA:   0:00:02"
     ]
    },
    {
     "name": "stderr",
     "output_type": "stream",
     "text": [
      "\r                                                                               \r\r 17% (99 of 558) |####                   | Elapsed Time: 0:00:00 ETA:   0:00:02"
     ]
    },
    {
     "name": "stderr",
     "output_type": "stream",
     "text": [
      "\r                                                                               \r\r 20% (114 of 558) |####                  | Elapsed Time: 0:00:00 ETA:   0:00:02"
     ]
    },
    {
     "name": "stderr",
     "output_type": "stream",
     "text": [
      "\r                                                                               \r\r 22% (128 of 558) |#####                 | Elapsed Time: 0:00:00 ETA:   0:00:02"
     ]
    },
    {
     "name": "stderr",
     "output_type": "stream",
     "text": [
      "\r                                                                               \r\r 25% (142 of 558) |#####                 | Elapsed Time: 0:00:00 ETA:   0:00:02"
     ]
    },
    {
     "name": "stderr",
     "output_type": "stream",
     "text": [
      "\r                                                                               \r\r 27% (156 of 558) |######                | Elapsed Time: 0:00:00 ETA:   0:00:01"
     ]
    },
    {
     "name": "stderr",
     "output_type": "stream",
     "text": [
      "\r                                                                               \r\r 30% (170 of 558) |######                | Elapsed Time: 0:00:00 ETA:   0:00:01"
     ]
    },
    {
     "name": "stderr",
     "output_type": "stream",
     "text": [
      "\r                                                                               \r\r 32% (184 of 558) |#######               | Elapsed Time: 0:00:00 ETA:   0:00:01"
     ]
    },
    {
     "name": "stderr",
     "output_type": "stream",
     "text": [
      "\r                                                                               \r\r 35% (198 of 558) |#######               | Elapsed Time: 0:00:00 ETA:   0:00:01"
     ]
    },
    {
     "name": "stderr",
     "output_type": "stream",
     "text": [
      "\r                                                                               \r\r 37% (212 of 558) |########              | Elapsed Time: 0:00:01 ETA:   0:00:01"
     ]
    },
    {
     "name": "stderr",
     "output_type": "stream",
     "text": [
      "\r                                                                               \r\r 40% (227 of 558) |########              | Elapsed Time: 0:00:01 ETA:   0:00:01"
     ]
    },
    {
     "name": "stderr",
     "output_type": "stream",
     "text": [
      "\r                                                                               \r\r 43% (241 of 558) |#########             | Elapsed Time: 0:00:01 ETA:   0:00:01"
     ]
    },
    {
     "name": "stderr",
     "output_type": "stream",
     "text": [
      "\r                                                                               \r\r 45% (255 of 558) |##########            | Elapsed Time: 0:00:01 ETA:   0:00:01"
     ]
    },
    {
     "name": "stderr",
     "output_type": "stream",
     "text": [
      "\r                                                                               \r\r 48% (269 of 558) |##########            | Elapsed Time: 0:00:01 ETA:   0:00:01"
     ]
    },
    {
     "name": "stderr",
     "output_type": "stream",
     "text": [
      "\r                                                                               \r\r 50% (283 of 558) |###########           | Elapsed Time: 0:00:01 ETA:   0:00:01"
     ]
    },
    {
     "name": "stderr",
     "output_type": "stream",
     "text": [
      "\r                                                                               \r\r 53% (297 of 558) |###########           | Elapsed Time: 0:00:01 ETA:   0:00:01"
     ]
    },
    {
     "name": "stderr",
     "output_type": "stream",
     "text": [
      "\r                                                                               \r\r 55% (311 of 558) |############          | Elapsed Time: 0:00:01 ETA:   0:00:01"
     ]
    },
    {
     "name": "stderr",
     "output_type": "stream",
     "text": [
      "\r                                                                               \r\r 58% (325 of 558) |############          | Elapsed Time: 0:00:01 ETA:   0:00:01"
     ]
    },
    {
     "name": "stderr",
     "output_type": "stream",
     "text": [
      "\r                                                                               \r\r 60% (340 of 558) |#############         | Elapsed Time: 0:00:01 ETA:   0:00:01"
     ]
    },
    {
     "name": "stderr",
     "output_type": "stream",
     "text": [
      "\r                                                                               \r\r 63% (354 of 558) |#############         | Elapsed Time: 0:00:01 ETA:   0:00:01"
     ]
    },
    {
     "name": "stderr",
     "output_type": "stream",
     "text": [
      "\r                                                                               \r\r 65% (368 of 558) |##############        | Elapsed Time: 0:00:01 ETA:   0:00:00"
     ]
    },
    {
     "name": "stderr",
     "output_type": "stream",
     "text": [
      "\r                                                                               \r\r 68% (382 of 558) |###############       | Elapsed Time: 0:00:01 ETA:   0:00:00"
     ]
    },
    {
     "name": "stderr",
     "output_type": "stream",
     "text": [
      "\r                                                                               \r\r 70% (396 of 558) |###############       | Elapsed Time: 0:00:02 ETA:   0:00:00"
     ]
    },
    {
     "name": "stderr",
     "output_type": "stream",
     "text": [
      "\r                                                                               \r\r 73% (410 of 558) |################      | Elapsed Time: 0:00:02 ETA:   0:00:00"
     ]
    },
    {
     "name": "stderr",
     "output_type": "stream",
     "text": [
      "\r                                                                               \r\r 75% (424 of 558) |################      | Elapsed Time: 0:00:02 ETA:   0:00:00"
     ]
    },
    {
     "name": "stderr",
     "output_type": "stream",
     "text": [
      "\r                                                                               \r\r 78% (438 of 558) |#################     | Elapsed Time: 0:00:02 ETA:   0:00:00"
     ]
    },
    {
     "name": "stderr",
     "output_type": "stream",
     "text": [
      "\r                                                                               \r\r 81% (453 of 558) |#################     | Elapsed Time: 0:00:02 ETA:   0:00:00"
     ]
    },
    {
     "name": "stderr",
     "output_type": "stream",
     "text": [
      "\r                                                                               \r\r 83% (467 of 558) |##################    | Elapsed Time: 0:00:02 ETA:   0:00:00"
     ]
    },
    {
     "name": "stderr",
     "output_type": "stream",
     "text": [
      "\r                                                                               \r\r 84% (474 of 558) |##################    | Elapsed Time: 0:00:02 ETA:   0:00:00"
     ]
    },
    {
     "name": "stderr",
     "output_type": "stream",
     "text": [
      "\r                                                                               \r\r 87% (488 of 558) |###################   | Elapsed Time: 0:00:02 ETA:   0:00:00"
     ]
    },
    {
     "name": "stderr",
     "output_type": "stream",
     "text": [
      "\r                                                                               \r\r 89% (502 of 558) |###################   | Elapsed Time: 0:00:02 ETA:   0:00:00"
     ]
    },
    {
     "name": "stderr",
     "output_type": "stream",
     "text": [
      "\r                                                                               \r\r 92% (516 of 558) |####################  | Elapsed Time: 0:00:02 ETA:   0:00:00"
     ]
    },
    {
     "name": "stderr",
     "output_type": "stream",
     "text": [
      "\r                                                                               \r\r 94% (530 of 558) |####################  | Elapsed Time: 0:00:02 ETA:   0:00:00"
     ]
    },
    {
     "name": "stderr",
     "output_type": "stream",
     "text": [
      "\r                                                                               \r\r 97% (544 of 558) |##################### | Elapsed Time: 0:00:02 ETA:   0:00:00"
     ]
    },
    {
     "name": "stderr",
     "output_type": "stream",
     "text": [
      "\r                                                                               \r\r100% (558 of 558) |######################| Elapsed Time: 0:00:02 Time:  0:00:02"
     ]
    },
    {
     "name": "stderr",
     "output_type": "stream",
     "text": [
      "\n"
     ]
    },
    {
     "name": "stderr",
     "output_type": "stream",
     "text": [
      "\r                                                                               \r\rN/A% (0 of 140) |                        | Elapsed Time: 0:00:00 ETA:  --:--:--"
     ]
    },
    {
     "name": "stderr",
     "output_type": "stream",
     "text": [
      "\r                                                                               \r\r 12% (18 of 140) |##                     | Elapsed Time: 0:00:00 ETA:  00:00:00"
     ]
    },
    {
     "name": "stderr",
     "output_type": "stream",
     "text": [
      "\r                                                                               \r\r 27% (38 of 140) |######                 | Elapsed Time: 0:00:00 ETA:   0:00:00"
     ]
    },
    {
     "name": "stderr",
     "output_type": "stream",
     "text": [
      "\r                                                                               \r\r 40% (57 of 140) |#########              | Elapsed Time: 0:00:00 ETA:   0:00:00"
     ]
    },
    {
     "name": "stdout",
     "output_type": "stream",
     "text": [
      "Epoch 2/5, train, loss = 0.0000, accuracy = 0.1350\n"
     ]
    },
    {
     "name": "stderr",
     "output_type": "stream",
     "text": [
      "\r                                                                               \r\r 53% (75 of 140) |############           | Elapsed Time: 0:00:00 ETA:   0:00:00"
     ]
    },
    {
     "name": "stderr",
     "output_type": "stream",
     "text": [
      "\r                                                                               \r\r 66% (93 of 140) |###############        | Elapsed Time: 0:00:00 ETA:   0:00:00"
     ]
    },
    {
     "name": "stderr",
     "output_type": "stream",
     "text": [
      "\r                                                                               \r\r 80% (112 of 140) |#################     | Elapsed Time: 0:00:00 ETA:   0:00:00"
     ]
    },
    {
     "name": "stderr",
     "output_type": "stream",
     "text": [
      "\r                                                                               \r\r 94% (132 of 140) |####################  | Elapsed Time: 0:00:00 ETA:   0:00:00"
     ]
    },
    {
     "name": "stderr",
     "output_type": "stream",
     "text": [
      "\r                                                                               \r\r100% (140 of 140) |######################| Elapsed Time: 0:00:00 Time:  0:00:00"
     ]
    },
    {
     "name": "stderr",
     "output_type": "stream",
     "text": [
      "\n"
     ]
    },
    {
     "name": "stdout",
     "output_type": "stream",
     "text": [
      "Epoch 2/5, dev, loss = 0.0000, accuracy = 0.1340\n"
     ]
    },
    {
     "data": {
      "image/png": "[encoded data removed]",
      "text/plain": [
       "<Figure size 432x288 with 1 Axes>"
      ]
     },
     "metadata": {},
     "output_type": "display_data"
    },
    {
     "name": "stderr",
     "output_type": "stream",
     "text": [
      "\r                                                                               \r\rN/A% (0 of 558) |                        | Elapsed Time: 0:00:00 ETA:  --:--:--"
     ]
    },
    {
     "name": "stderr",
     "output_type": "stream",
     "text": [
      "\r                                                                               \r\r  2% (15 of 558) |                       | Elapsed Time: 0:00:00 ETA:  00:00:00"
     ]
    },
    {
     "name": "stdout",
     "output_type": "stream",
     "text": [
      "Starting epoch 3 / 5\n"
     ]
    },
    {
     "name": "stderr",
     "output_type": "stream",
     "text": [
      "\r                                                                               \r\r  5% (29 of 558) |#                      | Elapsed Time: 0:00:00 ETA:   0:00:02"
     ]
    },
    {
     "name": "stderr",
     "output_type": "stream",
     "text": [
      "\r                                                                               \r\r  7% (43 of 558) |#                      | Elapsed Time: 0:00:00 ETA:   0:00:02"
     ]
    },
    {
     "name": "stderr",
     "output_type": "stream",
     "text": [
      "\r                                                                               \r\r 10% (57 of 558) |##                     | Elapsed Time: 0:00:00 ETA:   0:00:02"
     ]
    },
    {
     "name": "stderr",
     "output_type": "stream",
     "text": [
      "\r                                                                               \r\r 12% (71 of 558) |##                     | Elapsed Time: 0:00:00 ETA:   0:00:02"
     ]
    },
    {
     "name": "stderr",
     "output_type": "stream",
     "text": [
      "\r                                                                               \r\r 15% (85 of 558) |###                    | Elapsed Time: 0:00:00 ETA:   0:00:02"
     ]
    },
    {
     "name": "stderr",
     "output_type": "stream",
     "text": [
      "\r                                                                               \r\r 17% (99 of 558) |####                   | Elapsed Time: 0:00:00 ETA:   0:00:02"
     ]
    },
    {
     "name": "stderr",
     "output_type": "stream",
     "text": [
      "\r                                                                               \r\r 20% (114 of 558) |####                  | Elapsed Time: 0:00:00 ETA:   0:00:02"
     ]
    },
    {
     "name": "stderr",
     "output_type": "stream",
     "text": [
      "\r                                                                               \r\r 22% (128 of 558) |#####                 | Elapsed Time: 0:00:00 ETA:   0:00:02"
     ]
    },
    {
     "name": "stderr",
     "output_type": "stream",
     "text": [
      "\r                                                                               \r\r 25% (142 of 558) |#####                 | Elapsed Time: 0:00:00 ETA:   0:00:02"
     ]
    },
    {
     "name": "stderr",
     "output_type": "stream",
     "text": [
      "\r                                                                               \r\r 27% (156 of 558) |######                | Elapsed Time: 0:00:00 ETA:   0:00:02"
     ]
    },
    {
     "name": "stderr",
     "output_type": "stream",
     "text": [
      "\r                                                                               \r\r 30% (170 of 558) |######                | Elapsed Time: 0:00:00 ETA:   0:00:01"
     ]
    },
    {
     "name": "stderr",
     "output_type": "stream",
     "text": [
      "\r                                                                               \r\r 32% (184 of 558) |#######               | Elapsed Time: 0:00:00 ETA:   0:00:01"
     ]
    },
    {
     "name": "stderr",
     "output_type": "stream",
     "text": [
      "\r                                                                               \r\r 35% (198 of 558) |#######               | Elapsed Time: 0:00:01 ETA:   0:00:01"
     ]
    },
    {
     "name": "stderr",
     "output_type": "stream",
     "text": [
      "\r                                                                               \r\r 37% (212 of 558) |########              | Elapsed Time: 0:00:01 ETA:   0:00:01"
     ]
    },
    {
     "name": "stderr",
     "output_type": "stream",
     "text": [
      "\r                                                                               \r\r 40% (227 of 558) |########              | Elapsed Time: 0:00:01 ETA:   0:00:01"
     ]
    },
    {
     "name": "stderr",
     "output_type": "stream",
     "text": [
      "\r                                                                               \r\r 43% (241 of 558) |#########             | Elapsed Time: 0:00:01 ETA:   0:00:01"
     ]
    },
    {
     "name": "stderr",
     "output_type": "stream",
     "text": [
      "\r                                                                               \r\r 45% (255 of 558) |##########            | Elapsed Time: 0:00:01 ETA:   0:00:01"
     ]
    },
    {
     "name": "stderr",
     "output_type": "stream",
     "text": [
      "\r                                                                               \r\r 48% (269 of 558) |##########            | Elapsed Time: 0:00:01 ETA:   0:00:01"
     ]
    },
    {
     "name": "stderr",
     "output_type": "stream",
     "text": [
      "\r                                                                               \r\r 50% (283 of 558) |###########           | Elapsed Time: 0:00:01 ETA:   0:00:01"
     ]
    },
    {
     "name": "stderr",
     "output_type": "stream",
     "text": [
      "\r                                                                               \r\r 53% (297 of 558) |###########           | Elapsed Time: 0:00:01 ETA:   0:00:01"
     ]
    },
    {
     "name": "stderr",
     "output_type": "stream",
     "text": [
      "\r                                                                               \r\r 55% (311 of 558) |############          | Elapsed Time: 0:00:01 ETA:   0:00:01"
     ]
    },
    {
     "name": "stderr",
     "output_type": "stream",
     "text": [
      "\r                                                                               \r\r 58% (325 of 558) |############          | Elapsed Time: 0:00:01 ETA:   0:00:01"
     ]
    },
    {
     "name": "stderr",
     "output_type": "stream",
     "text": [
      "\r                                                                               \r\r 60% (340 of 558) |#############         | Elapsed Time: 0:00:01 ETA:   0:00:01"
     ]
    },
    {
     "name": "stderr",
     "output_type": "stream",
     "text": [
      "\r                                                                               \r\r 63% (354 of 558) |#############         | Elapsed Time: 0:00:01 ETA:   0:00:01"
     ]
    },
    {
     "name": "stderr",
     "output_type": "stream",
     "text": [
      "\r                                                                               \r\r 65% (368 of 558) |##############        | Elapsed Time: 0:00:01 ETA:   0:00:00"
     ]
    },
    {
     "name": "stderr",
     "output_type": "stream",
     "text": [
      "\r                                                                               \r\r 68% (382 of 558) |###############       | Elapsed Time: 0:00:01 ETA:   0:00:00"
     ]
    },
    {
     "name": "stderr",
     "output_type": "stream",
     "text": [
      "\r                                                                               \r\r 70% (396 of 558) |###############       | Elapsed Time: 0:00:02 ETA:   0:00:00"
     ]
    },
    {
     "name": "stderr",
     "output_type": "stream",
     "text": [
      "\r                                                                               \r\r 73% (410 of 558) |################      | Elapsed Time: 0:00:02 ETA:   0:00:00"
     ]
    },
    {
     "name": "stderr",
     "output_type": "stream",
     "text": [
      "\r                                                                               \r\r 75% (424 of 558) |################      | Elapsed Time: 0:00:02 ETA:   0:00:00"
     ]
    },
    {
     "name": "stderr",
     "output_type": "stream",
     "text": [
      "\r                                                                               \r\r 78% (438 of 558) |#################     | Elapsed Time: 0:00:02 ETA:   0:00:00"
     ]
    },
    {
     "name": "stderr",
     "output_type": "stream",
     "text": [
      "\r                                                                               \r\r 81% (453 of 558) |#################     | Elapsed Time: 0:00:02 ETA:   0:00:00"
     ]
    },
    {
     "name": "stderr",
     "output_type": "stream",
     "text": [
      "\r                                                                               \r\r 83% (467 of 558) |##################    | Elapsed Time: 0:00:02 ETA:   0:00:00"
     ]
    },
    {
     "name": "stderr",
     "output_type": "stream",
     "text": [
      "\r                                                                               \r\r 86% (481 of 558) |##################    | Elapsed Time: 0:00:02 ETA:   0:00:00"
     ]
    },
    {
     "name": "stderr",
     "output_type": "stream",
     "text": [
      "\r                                                                               \r\r 88% (495 of 558) |###################   | Elapsed Time: 0:00:02 ETA:   0:00:00"
     ]
    },
    {
     "name": "stderr",
     "output_type": "stream",
     "text": [
      "\r                                                                               \r\r 91% (509 of 558) |####################  | Elapsed Time: 0:00:02 ETA:   0:00:00"
     ]
    },
    {
     "name": "stderr",
     "output_type": "stream",
     "text": [
      "\r                                                                               \r\r 93% (523 of 558) |####################  | Elapsed Time: 0:00:02 ETA:   0:00:00"
     ]
    },
    {
     "name": "stderr",
     "output_type": "stream",
     "text": [
      "\r                                                                               \r\r 96% (537 of 558) |##################### | Elapsed Time: 0:00:02 ETA:   0:00:00"
     ]
    },
    {
     "name": "stderr",
     "output_type": "stream",
     "text": [
      "\r                                                                               \r\r 98% (551 of 558) |##################### | Elapsed Time: 0:00:02 ETA:   0:00:00"
     ]
    },
    {
     "name": "stderr",
     "output_type": "stream",
     "text": [
      "\r                                                                               \r\r100% (558 of 558) |######################| Elapsed Time: 0:00:02 Time:  0:00:02"
     ]
    },
    {
     "name": "stderr",
     "output_type": "stream",
     "text": [
      "\n"
     ]
    },
    {
     "name": "stderr",
     "output_type": "stream",
     "text": [
      "\r                                                                               \r\rN/A% (0 of 140) |                        | Elapsed Time: 0:00:00 ETA:  --:--:--"
     ]
    },
    {
     "name": "stderr",
     "output_type": "stream",
     "text": [
      "\r                                                                               \r\r 12% (18 of 140) |##                     | Elapsed Time: 0:00:00 ETA:  00:00:00"
     ]
    },
    {
     "name": "stderr",
     "output_type": "stream",
     "text": [
      "\r                                                                               \r\r 27% (38 of 140) |######                 | Elapsed Time: 0:00:00 ETA:   0:00:00"
     ]
    },
    {
     "name": "stderr",
     "output_type": "stream",
     "text": [
      "\r                                                                               \r\r 39% (55 of 140) |#########              | Elapsed Time: 0:00:00 ETA:   0:00:00"
     ]
    },
    {
     "name": "stdout",
     "output_type": "stream",
     "text": [
      "Epoch 3/5, train, loss = 0.0000, accuracy = 0.1350\n"
     ]
    },
    {
     "name": "stderr",
     "output_type": "stream",
     "text": [
      "\r                                                                               \r\r 52% (73 of 140) |###########            | Elapsed Time: 0:00:00 ETA:   0:00:00"
     ]
    },
    {
     "name": "stderr",
     "output_type": "stream",
     "text": [
      "\r                                                                               \r\r 63% (89 of 140) |##############         | Elapsed Time: 0:00:00 ETA:   0:00:00"
     ]
    },
    {
     "name": "stderr",
     "output_type": "stream",
     "text": [
      "\r                                                                               \r\r 76% (107 of 140) |################      | Elapsed Time: 0:00:00 ETA:   0:00:00"
     ]
    },
    {
     "name": "stderr",
     "output_type": "stream",
     "text": [
      "\r                                                                               \r\r 90% (126 of 140) |###################   | Elapsed Time: 0:00:00 ETA:   0:00:00"
     ]
    },
    {
     "name": "stderr",
     "output_type": "stream",
     "text": [
      "\r                                                                               \r\r100% (140 of 140) |######################| Elapsed Time: 0:00:00 Time:  0:00:00"
     ]
    },
    {
     "name": "stderr",
     "output_type": "stream",
     "text": [
      "\n"
     ]
    },
    {
     "name": "stdout",
     "output_type": "stream",
     "text": [
      "Epoch 3/5, dev, loss = 0.0000, accuracy = 0.1340\n"
     ]
    },
    {
     "data": {
      "image/png": "[encoded data removed]",
      "text/plain": [
       "<Figure size 432x288 with 1 Axes>"
      ]
     },
     "metadata": {},
     "output_type": "display_data"
    },
    {
     "name": "stderr",
     "output_type": "stream",
     "text": [
      "\r                                                                               \r\rN/A% (0 of 558) |                        | Elapsed Time: 0:00:00 ETA:  --:--:--"
     ]
    },
    {
     "name": "stderr",
     "output_type": "stream",
     "text": [
      "\r                                                                               \r\r  2% (15 of 558) |                       | Elapsed Time: 0:00:00 ETA:  00:00:00"
     ]
    },
    {
     "name": "stdout",
     "output_type": "stream",
     "text": [
      "Starting epoch 4 / 5\n"
     ]
    },
    {
     "name": "stderr",
     "output_type": "stream",
     "text": [
      "\r                                                                               \r\r  5% (29 of 558) |#                      | Elapsed Time: 0:00:00 ETA:   0:00:02"
     ]
    },
    {
     "name": "stderr",
     "output_type": "stream",
     "text": [
      "\r                                                                               \r\r  7% (43 of 558) |#                      | Elapsed Time: 0:00:00 ETA:   0:00:02"
     ]
    },
    {
     "name": "stderr",
     "output_type": "stream",
     "text": [
      "\r                                                                               \r\r 10% (57 of 558) |##                     | Elapsed Time: 0:00:00 ETA:   0:00:02"
     ]
    },
    {
     "name": "stderr",
     "output_type": "stream",
     "text": [
      "\r                                                                               \r\r 12% (71 of 558) |##                     | Elapsed Time: 0:00:00 ETA:   0:00:02"
     ]
    },
    {
     "name": "stderr",
     "output_type": "stream",
     "text": [
      "\r                                                                               \r\r 15% (85 of 558) |###                    | Elapsed Time: 0:00:00 ETA:   0:00:02"
     ]
    },
    {
     "name": "stderr",
     "output_type": "stream",
     "text": [
      "\r                                                                               \r\r 17% (99 of 558) |####                   | Elapsed Time: 0:00:00 ETA:   0:00:02"
     ]
    },
    {
     "name": "stderr",
     "output_type": "stream",
     "text": [
      "\r                                                                               \r\r 20% (114 of 558) |####                  | Elapsed Time: 0:00:00 ETA:   0:00:02"
     ]
    },
    {
     "name": "stderr",
     "output_type": "stream",
     "text": [
      "\r                                                                               \r\r 22% (128 of 558) |#####                 | Elapsed Time: 0:00:00 ETA:   0:00:02"
     ]
    },
    {
     "name": "stderr",
     "output_type": "stream",
     "text": [
      "\r                                                                               \r\r 25% (142 of 558) |#####                 | Elapsed Time: 0:00:00 ETA:   0:00:02"
     ]
    },
    {
     "name": "stderr",
     "output_type": "stream",
     "text": [
      "\r                                                                               \r\r 27% (156 of 558) |######                | Elapsed Time: 0:00:00 ETA:   0:00:02"
     ]
    },
    {
     "name": "stderr",
     "output_type": "stream",
     "text": [
      "\r                                                                               \r\r 30% (170 of 558) |######                | Elapsed Time: 0:00:00 ETA:   0:00:01"
     ]
    },
    {
     "name": "stderr",
     "output_type": "stream",
     "text": [
      "\r                                                                               \r\r 32% (184 of 558) |#######               | Elapsed Time: 0:00:00 ETA:   0:00:01"
     ]
    },
    {
     "name": "stderr",
     "output_type": "stream",
     "text": [
      "\r                                                                               \r\r 35% (198 of 558) |#######               | Elapsed Time: 0:00:01 ETA:   0:00:01"
     ]
    },
    {
     "name": "stderr",
     "output_type": "stream",
     "text": [
      "\r                                                                               \r\r 37% (212 of 558) |########              | Elapsed Time: 0:00:01 ETA:   0:00:01"
     ]
    },
    {
     "name": "stderr",
     "output_type": "stream",
     "text": [
      "\r                                                                               \r\r 40% (227 of 558) |########              | Elapsed Time: 0:00:01 ETA:   0:00:01"
     ]
    },
    {
     "name": "stderr",
     "output_type": "stream",
     "text": [
      "\r                                                                               \r\r 43% (241 of 558) |#########             | Elapsed Time: 0:00:01 ETA:   0:00:01"
     ]
    },
    {
     "name": "stderr",
     "output_type": "stream",
     "text": [
      "\r                                                                               \r\r 45% (255 of 558) |##########            | Elapsed Time: 0:00:01 ETA:   0:00:01"
     ]
    },
    {
     "name": "stderr",
     "output_type": "stream",
     "text": [
      "\r                                                                               \r\r 48% (269 of 558) |##########            | Elapsed Time: 0:00:01 ETA:   0:00:01"
     ]
    },
    {
     "name": "stderr",
     "output_type": "stream",
     "text": [
      "\r                                                                               \r\r 50% (283 of 558) |###########           | Elapsed Time: 0:00:01 ETA:   0:00:01"
     ]
    },
    {
     "name": "stderr",
     "output_type": "stream",
     "text": [
      "\r                                                                               \r\r 53% (297 of 558) |###########           | Elapsed Time: 0:00:01 ETA:   0:00:01"
     ]
    },
    {
     "name": "stderr",
     "output_type": "stream",
     "text": [
      "\r                                                                               \r\r 55% (311 of 558) |############          | Elapsed Time: 0:00:01 ETA:   0:00:01"
     ]
    },
    {
     "name": "stderr",
     "output_type": "stream",
     "text": [
      "\r                                                                               \r\r 58% (325 of 558) |############          | Elapsed Time: 0:00:01 ETA:   0:00:01"
     ]
    },
    {
     "name": "stderr",
     "output_type": "stream",
     "text": [
      "\r                                                                               \r\r 60% (340 of 558) |#############         | Elapsed Time: 0:00:01 ETA:   0:00:01"
     ]
    },
    {
     "name": "stderr",
     "output_type": "stream",
     "text": [
      "\r                                                                               \r\r 63% (354 of 558) |#############         | Elapsed Time: 0:00:01 ETA:   0:00:01"
     ]
    },
    {
     "name": "stderr",
     "output_type": "stream",
     "text": [
      "\r                                                                               \r\r 65% (368 of 558) |##############        | Elapsed Time: 0:00:01 ETA:   0:00:00"
     ]
    },
    {
     "name": "stderr",
     "output_type": "stream",
     "text": [
      "\r                                                                               \r\r 68% (382 of 558) |###############       | Elapsed Time: 0:00:01 ETA:   0:00:00"
     ]
    },
    {
     "name": "stderr",
     "output_type": "stream",
     "text": [
      "\r                                                                               \r\r 70% (396 of 558) |###############       | Elapsed Time: 0:00:02 ETA:   0:00:00"
     ]
    },
    {
     "name": "stderr",
     "output_type": "stream",
     "text": [
      "\r                                                                               \r\r 73% (410 of 558) |################      | Elapsed Time: 0:00:02 ETA:   0:00:00"
     ]
    },
    {
     "name": "stderr",
     "output_type": "stream",
     "text": [
      "\r                                                                               \r\r 75% (424 of 558) |################      | Elapsed Time: 0:00:02 ETA:   0:00:00"
     ]
    },
    {
     "name": "stderr",
     "output_type": "stream",
     "text": [
      "\r                                                                               \r\r 78% (438 of 558) |#################     | Elapsed Time: 0:00:02 ETA:   0:00:00"
     ]
    },
    {
     "name": "stderr",
     "output_type": "stream",
     "text": [
      "\r                                                                               \r\r 81% (453 of 558) |#################     | Elapsed Time: 0:00:02 ETA:   0:00:00"
     ]
    },
    {
     "name": "stderr",
     "output_type": "stream",
     "text": [
      "\r                                                                               \r\r 83% (467 of 558) |##################    | Elapsed Time: 0:00:02 ETA:   0:00:00"
     ]
    },
    {
     "name": "stderr",
     "output_type": "stream",
     "text": [
      "\r                                                                               \r\r 86% (481 of 558) |##################    | Elapsed Time: 0:00:02 ETA:   0:00:00"
     ]
    },
    {
     "name": "stderr",
     "output_type": "stream",
     "text": [
      "\r                                                                               \r\r 88% (495 of 558) |###################   | Elapsed Time: 0:00:02 ETA:   0:00:00"
     ]
    },
    {
     "name": "stderr",
     "output_type": "stream",
     "text": [
      "\r                                                                               \r\r 91% (509 of 558) |####################  | Elapsed Time: 0:00:02 ETA:   0:00:00"
     ]
    },
    {
     "name": "stderr",
     "output_type": "stream",
     "text": [
      "\r                                                                               \r\r 93% (523 of 558) |####################  | Elapsed Time: 0:00:02 ETA:   0:00:00"
     ]
    },
    {
     "name": "stderr",
     "output_type": "stream",
     "text": [
      "\r                                                                               \r\r 96% (537 of 558) |##################### | Elapsed Time: 0:00:02 ETA:   0:00:00"
     ]
    },
    {
     "name": "stderr",
     "output_type": "stream",
     "text": [
      "\r                                                                               \r\r 98% (551 of 558) |##################### | Elapsed Time: 0:00:02 ETA:   0:00:00"
     ]
    },
    {
     "name": "stderr",
     "output_type": "stream",
     "text": [
      "\r                                                                               \r\r100% (558 of 558) |######################| Elapsed Time: 0:00:02 Time:  0:00:02"
     ]
    },
    {
     "name": "stderr",
     "output_type": "stream",
     "text": [
      "\n"
     ]
    },
    {
     "name": "stderr",
     "output_type": "stream",
     "text": [
      "\r                                                                               \r\rN/A% (0 of 140) |                        | Elapsed Time: 0:00:00 ETA:  --:--:--"
     ]
    },
    {
     "name": "stderr",
     "output_type": "stream",
     "text": [
      "\r                                                                               \r\r 12% (18 of 140) |##                     | Elapsed Time: 0:00:00 ETA:  00:00:00"
     ]
    },
    {
     "name": "stderr",
     "output_type": "stream",
     "text": [
      "\r                                                                               \r\r 27% (38 of 140) |######                 | Elapsed Time: 0:00:00 ETA:   0:00:00"
     ]
    },
    {
     "name": "stderr",
     "output_type": "stream",
     "text": [
      "\r                                                                               \r\r 40% (57 of 140) |#########              | Elapsed Time: 0:00:00 ETA:   0:00:00"
     ]
    },
    {
     "name": "stdout",
     "output_type": "stream",
     "text": [
      "Epoch 4/5, train, loss = 0.0000, accuracy = 0.1350\n"
     ]
    },
    {
     "name": "stderr",
     "output_type": "stream",
     "text": [
      "\r                                                                               \r\r 55% (77 of 140) |############           | Elapsed Time: 0:00:00 ETA:   0:00:00"
     ]
    },
    {
     "name": "stderr",
     "output_type": "stream",
     "text": [
      "\r                                                                               \r\r 68% (96 of 140) |###############        | Elapsed Time: 0:00:00 ETA:   0:00:00"
     ]
    },
    {
     "name": "stderr",
     "output_type": "stream",
     "text": [
      "\r                                                                               \r\r 82% (116 of 140) |##################    | Elapsed Time: 0:00:00 ETA:   0:00:00"
     ]
    },
    {
     "name": "stderr",
     "output_type": "stream",
     "text": [
      "\r                                                                               \r\r 96% (135 of 140) |##################### | Elapsed Time: 0:00:00 ETA:   0:00:00"
     ]
    },
    {
     "name": "stderr",
     "output_type": "stream",
     "text": [
      "\r                                                                               \r\r100% (140 of 140) |######################| Elapsed Time: 0:00:00 Time:  0:00:00"
     ]
    },
    {
     "name": "stderr",
     "output_type": "stream",
     "text": [
      "\n"
     ]
    },
    {
     "name": "stdout",
     "output_type": "stream",
     "text": [
      "Epoch 4/5, dev, loss = 0.0000, accuracy = 0.1340\n"
     ]
    },
    {
     "data": {
      "image/png": "[encoded data removed]",
      "text/plain": [
       "<Figure size 432x288 with 1 Axes>"
      ]
     },
     "metadata": {},
     "output_type": "display_data"
    },
    {
     "name": "stderr",
     "output_type": "stream",
     "text": [
      "\r                                                                               \r\rN/A% (0 of 558) |                        | Elapsed Time: 0:00:00 ETA:  --:--:--"
     ]
    },
    {
     "name": "stderr",
     "output_type": "stream",
     "text": [
      "\r                                                                               \r\r  2% (15 of 558) |                       | Elapsed Time: 0:00:00 ETA:  00:00:00"
     ]
    },
    {
     "name": "stdout",
     "output_type": "stream",
     "text": [
      "Starting epoch 5 / 5\n"
     ]
    },
    {
     "name": "stderr",
     "output_type": "stream",
     "text": [
      "\r                                                                               \r\r  5% (29 of 558) |#                      | Elapsed Time: 0:00:00 ETA:   0:00:02"
     ]
    },
    {
     "name": "stderr",
     "output_type": "stream",
     "text": [
      "\r                                                                               \r\r  7% (43 of 558) |#                      | Elapsed Time: 0:00:00 ETA:   0:00:02"
     ]
    },
    {
     "name": "stderr",
     "output_type": "stream",
     "text": [
      "\r                                                                               \r\r 10% (57 of 558) |##                     | Elapsed Time: 0:00:00 ETA:   0:00:02"
     ]
    },
    {
     "name": "stderr",
     "output_type": "stream",
     "text": [
      "\r                                                                               \r\r 12% (71 of 558) |##                     | Elapsed Time: 0:00:00 ETA:   0:00:02"
     ]
    },
    {
     "name": "stderr",
     "output_type": "stream",
     "text": [
      "\r                                                                               \r\r 15% (85 of 558) |###                    | Elapsed Time: 0:00:00 ETA:   0:00:02"
     ]
    },
    {
     "name": "stderr",
     "output_type": "stream",
     "text": [
      "\r                                                                               \r\r 17% (99 of 558) |####                   | Elapsed Time: 0:00:00 ETA:   0:00:02"
     ]
    },
    {
     "name": "stderr",
     "output_type": "stream",
     "text": [
      "\r                                                                               \r\r 20% (114 of 558) |####                  | Elapsed Time: 0:00:00 ETA:   0:00:02"
     ]
    },
    {
     "name": "stderr",
     "output_type": "stream",
     "text": [
      "\r                                                                               \r\r 22% (128 of 558) |#####                 | Elapsed Time: 0:00:00 ETA:   0:00:02"
     ]
    },
    {
     "name": "stderr",
     "output_type": "stream",
     "text": [
      "\r                                                                               \r\r 25% (142 of 558) |#####                 | Elapsed Time: 0:00:00 ETA:   0:00:02"
     ]
    },
    {
     "name": "stderr",
     "output_type": "stream",
     "text": [
      "\r                                                                               \r\r 27% (156 of 558) |######                | Elapsed Time: 0:00:00 ETA:   0:00:02"
     ]
    },
    {
     "name": "stderr",
     "output_type": "stream",
     "text": [
      "\r                                                                               \r\r 30% (170 of 558) |######                | Elapsed Time: 0:00:00 ETA:   0:00:01"
     ]
    },
    {
     "name": "stderr",
     "output_type": "stream",
     "text": [
      "\r                                                                               \r\r 32% (184 of 558) |#######               | Elapsed Time: 0:00:00 ETA:   0:00:01"
     ]
    },
    {
     "name": "stderr",
     "output_type": "stream",
     "text": [
      "\r                                                                               \r\r 34% (191 of 558) |#######               | Elapsed Time: 0:00:00 ETA:   0:00:01"
     ]
    },
    {
     "name": "stderr",
     "output_type": "stream",
     "text": [
      "\r                                                                               \r\r 36% (205 of 558) |########              | Elapsed Time: 0:00:01 ETA:   0:00:01"
     ]
    },
    {
     "name": "stderr",
     "output_type": "stream",
     "text": [
      "\r                                                                               \r\r 39% (219 of 558) |########              | Elapsed Time: 0:00:01 ETA:   0:00:01"
     ]
    },
    {
     "name": "stderr",
     "output_type": "stream",
     "text": [
      "\r                                                                               \r\r 41% (234 of 558) |#########             | Elapsed Time: 0:00:01 ETA:   0:00:01"
     ]
    },
    {
     "name": "stderr",
     "output_type": "stream",
     "text": [
      "\r                                                                               \r\r 44% (248 of 558) |#########             | Elapsed Time: 0:00:01 ETA:   0:00:01"
     ]
    },
    {
     "name": "stderr",
     "output_type": "stream",
     "text": [
      "\r                                                                               \r\r 46% (262 of 558) |##########            | Elapsed Time: 0:00:01 ETA:   0:00:01"
     ]
    },
    {
     "name": "stderr",
     "output_type": "stream",
     "text": [
      "\r                                                                               \r\r 49% (276 of 558) |##########            | Elapsed Time: 0:00:01 ETA:   0:00:01"
     ]
    },
    {
     "name": "stderr",
     "output_type": "stream",
     "text": [
      "\r                                                                               \r\r 51% (290 of 558) |###########           | Elapsed Time: 0:00:01 ETA:   0:00:01"
     ]
    },
    {
     "name": "stderr",
     "output_type": "stream",
     "text": [
      "\r                                                                               \r\r 54% (304 of 558) |###########           | Elapsed Time: 0:00:01 ETA:   0:00:01"
     ]
    },
    {
     "name": "stderr",
     "output_type": "stream",
     "text": [
      "\r                                                                               \r\r 56% (318 of 558) |############          | Elapsed Time: 0:00:01 ETA:   0:00:01"
     ]
    },
    {
     "name": "stderr",
     "output_type": "stream",
     "text": [
      "\r                                                                               \r\r 59% (332 of 558) |#############         | Elapsed Time: 0:00:01 ETA:   0:00:01"
     ]
    },
    {
     "name": "stderr",
     "output_type": "stream",
     "text": [
      "\r                                                                               \r\r 62% (347 of 558) |#############         | Elapsed Time: 0:00:01 ETA:   0:00:01"
     ]
    },
    {
     "name": "stderr",
     "output_type": "stream",
     "text": [
      "\r                                                                               \r\r 64% (361 of 558) |##############        | Elapsed Time: 0:00:01 ETA:   0:00:01"
     ]
    },
    {
     "name": "stderr",
     "output_type": "stream",
     "text": [
      "\r                                                                               \r\r 67% (375 of 558) |##############        | Elapsed Time: 0:00:01 ETA:   0:00:00"
     ]
    },
    {
     "name": "stderr",
     "output_type": "stream",
     "text": [
      "\r                                                                               \r\r 69% (389 of 558) |###############       | Elapsed Time: 0:00:02 ETA:   0:00:00"
     ]
    },
    {
     "name": "stderr",
     "output_type": "stream",
     "text": [
      "\r                                                                               \r\r 72% (403 of 558) |###############       | Elapsed Time: 0:00:02 ETA:   0:00:00"
     ]
    },
    {
     "name": "stderr",
     "output_type": "stream",
     "text": [
      "\r                                                                               \r\r 74% (417 of 558) |################      | Elapsed Time: 0:00:02 ETA:   0:00:00"
     ]
    },
    {
     "name": "stderr",
     "output_type": "stream",
     "text": [
      "\r                                                                               \r\r 77% (431 of 558) |################      | Elapsed Time: 0:00:02 ETA:   0:00:00"
     ]
    },
    {
     "name": "stderr",
     "output_type": "stream",
     "text": [
      "\r                                                                               \r\r 79% (445 of 558) |#################     | Elapsed Time: 0:00:02 ETA:   0:00:00"
     ]
    },
    {
     "name": "stderr",
     "output_type": "stream",
     "text": [
      "\r                                                                               \r\r 82% (460 of 558) |##################    | Elapsed Time: 0:00:02 ETA:   0:00:00"
     ]
    },
    {
     "name": "stderr",
     "output_type": "stream",
     "text": [
      "\r                                                                               \r\r 84% (474 of 558) |##################    | Elapsed Time: 0:00:02 ETA:   0:00:00"
     ]
    },
    {
     "name": "stderr",
     "output_type": "stream",
     "text": [
      "\r                                                                               \r\r 87% (488 of 558) |###################   | Elapsed Time: 0:00:02 ETA:   0:00:00"
     ]
    },
    {
     "name": "stderr",
     "output_type": "stream",
     "text": [
      "\r                                                                               \r\r 89% (502 of 558) |###################   | Elapsed Time: 0:00:02 ETA:   0:00:00"
     ]
    },
    {
     "name": "stderr",
     "output_type": "stream",
     "text": [
      "\r                                                                               \r\r 92% (516 of 558) |####################  | Elapsed Time: 0:00:02 ETA:   0:00:00"
     ]
    },
    {
     "name": "stderr",
     "output_type": "stream",
     "text": [
      "\r                                                                               \r\r 94% (530 of 558) |####################  | Elapsed Time: 0:00:02 ETA:   0:00:00"
     ]
    },
    {
     "name": "stderr",
     "output_type": "stream",
     "text": [
      "\r                                                                               \r\r 97% (544 of 558) |##################### | Elapsed Time: 0:00:02 ETA:   0:00:00"
     ]
    },
    {
     "name": "stderr",
     "output_type": "stream",
     "text": [
      "\r                                                                               \r\r100% (558 of 558) |######################| Elapsed Time: 0:00:02 Time:  0:00:02"
     ]
    },
    {
     "name": "stderr",
     "output_type": "stream",
     "text": [
      "\n"
     ]
    },
    {
     "name": "stderr",
     "output_type": "stream",
     "text": [
      "\r                                                                               \r\rN/A% (0 of 140) |                        | Elapsed Time: 0:00:00 ETA:  --:--:--"
     ]
    },
    {
     "name": "stderr",
     "output_type": "stream",
     "text": [
      "\r                                                                               \r\r 12% (18 of 140) |##                     | Elapsed Time: 0:00:00 ETA:  00:00:00"
     ]
    },
    {
     "name": "stderr",
     "output_type": "stream",
     "text": [
      "\r                                                                               \r\r 24% (34 of 140) |#####                  | Elapsed Time: 0:00:00 ETA:   0:00:00"
     ]
    },
    {
     "name": "stderr",
     "output_type": "stream",
     "text": [
      "\r                                                                               \r\r 35% (50 of 140) |########               | Elapsed Time: 0:00:00 ETA:   0:00:00"
     ]
    },
    {
     "name": "stdout",
     "output_type": "stream",
     "text": [
      "Epoch 5/5, train, loss = 0.0000, accuracy = 0.1350\n"
     ]
    },
    {
     "name": "stderr",
     "output_type": "stream",
     "text": [
      "\r                                                                               \r\r 45% (64 of 140) |##########             | Elapsed Time: 0:00:00 ETA:   0:00:00"
     ]
    },
    {
     "name": "stderr",
     "output_type": "stream",
     "text": [
      "\r                                                                               \r\r 58% (82 of 140) |#############          | Elapsed Time: 0:00:00 ETA:   0:00:00"
     ]
    },
    {
     "name": "stderr",
     "output_type": "stream",
     "text": [
      "\r                                                                               \r\r 71% (100 of 140) |###############       | Elapsed Time: 0:00:00 ETA:   0:00:00"
     ]
    },
    {
     "name": "stderr",
     "output_type": "stream",
     "text": [
      "\r                                                                               \r\r 82% (116 of 140) |##################    | Elapsed Time: 0:00:00 ETA:   0:00:00"
     ]
    },
    {
     "name": "stderr",
     "output_type": "stream",
     "text": [
      "\r                                                                               \r\r 96% (135 of 140) |##################### | Elapsed Time: 0:00:00 ETA:   0:00:00"
     ]
    },
    {
     "name": "stderr",
     "output_type": "stream",
     "text": [
      "\r                                                                               \r\r100% (140 of 140) |######################| Elapsed Time: 0:00:00 Time:  0:00:00"
     ]
    },
    {
     "name": "stderr",
     "output_type": "stream",
     "text": [
      "\n"
     ]
    },
    {
     "name": "stdout",
     "output_type": "stream",
     "text": [
      "Epoch 5/5, dev, loss = 0.0000, accuracy = 0.1340\n"
     ]
    },
    {
     "data": {
      "image/png": "[encoded data removed]",
      "text/plain": [
       "<Figure size 432x288 with 1 Axes>"
      ]
     },
     "metadata": {},
     "output_type": "display_data"
    }
   ],
   "source": [
    "fit(model, loss_fn, optimizer, dataloaders, {'accuracy': accuracy_score}, num_epochs=num_epochs, save=False)\n"
   ]
  },
  {
   "cell_type": "code",
   "execution_count": null,
   "metadata": {},
   "outputs": [],
   "source": []
  }
 ],
 "metadata": {
  "kernelspec": {
   "display_name": "Python 2",
   "language": "python",
   "name": "python2"
  },
  "language_info": {
   "codemirror_mode": {
    "name": "ipython",
    "version": 2
   },
   "file_extension": ".py",
   "mimetype": "text/x-python",
   "name": "python",
   "nbconvert_exporter": "python",
   "pygments_lexer": "ipython2",
   "version": "2.7.6"
  }
 },
 "nbformat": 4,
 "nbformat_minor": 0
}
